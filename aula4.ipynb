{
 "cells": [
  {
   "cell_type": "markdown",
   "metadata": {},
   "source": [
    "# Operadores lógicos"
   ]
  },
  {
   "cell_type": "code",
   "execution_count": 13,
   "metadata": {},
   "outputs": [
    {
     "name": "stdout",
     "output_type": "stream",
     "text": [
      "Divisão inteira: 0 \n",
      " Divisão: 0.5 \n",
      " Resto: 1 \n",
      " Expo: 1\n",
      "==========\n"
     ]
    }
   ],
   "source": [
    "n1 = int(input('Digite o primeiro número'))\n",
    "n2 = int(input('Digite o segundo número'))\n",
    "\n",
    "divisao_inteira = n1 // n2\n",
    "divisao = n1 / n2\n",
    "resto = n1 % n2\n",
    "expo = n1 ** n2 \n",
    "\n",
    "print(f'Divisão inteira: {divisao_inteira} \\n Divisão: {divisao} \\n Resto: {resto} \\n Expo: {expo}')\n"
   ]
  },
  {
   "cell_type": "markdown",
   "metadata": {},
   "source": [
    "# Atividade\n",
    "\n",
    "- Crie um programa para o boletim de notas do aluno. Guarde o nome do aluno, as notas e calcule a media final do aluno.\n",
    "\n",
    "- Disciplinas:\n",
    "    - matemática\n",
    "    - português\n",
    "    - geografia\n",
    "    - história\n",
    "    - física\n",
    "\n",
    "- Ao obter as notas e a média das notas, imprima o boletim do aluno informando as notas das matérias e com quanto ele ifcou de média."
   ]
  },
  {
   "cell_type": "code",
   "execution_count": 24,
   "metadata": {},
   "outputs": [
    {
     "name": "stdout",
     "output_type": "stream",
     "text": [
      "===================================== BOLETIM 2024 ======================================\n",
      "ALUNO: Antodo gomes da silva freitas\n",
      "-----------------------------------------------------------------------------------------\n",
      "Matemática | Português | Geografia | História | Física\n",
      "--- 7.0 ---|--- 5.0 ---|--- 9.0 ---|--- 8.0 --|--- 6.0 ----------------------------------\n",
      "-----------------------------------------------------------------------------------------\n",
      "---------------------------------------------------------- MÉDIA GERAL: 7.00 ------------\n"
     ]
    }
   ],
   "source": [
    "# Boletim\n",
    "nome = input('Digite o nome do aluno: ')\n",
    "mat = input('Nota de matemática')\n",
    "port = input('Nota de português')\n",
    "geo = input('Nota de geografia')\n",
    "hist = input('Nota de história')\n",
    "fis = input('Nota de física')\n",
    "\n",
    "# Convertendo as notas\n",
    "mat = float(mat)\n",
    "port = float(port)\n",
    "geo = float(geo)\n",
    "hist = float(hist)\n",
    "fis = float(fis)\n",
    "\n",
    "# Média geral\n",
    "media = (mat + port + geo + hist + fis)/5\n",
    "\n",
    "# Formatação\n",
    "c1 = '='\n",
    "c2 = '-'\n",
    "\n",
    "# Imprimindo o boletim\n",
    "print(f'{c1 *37} BOLETIM 2024 {c1 *38}')\n",
    "print(f'ALUNO: {nome}')\n",
    "print(c2 * 89)\n",
    "print('Matemática | Português | Geografia | História | Física')\n",
    "print(f'{c2 * 3} {mat} {c2 * 3}|{c2 * 3} {port} {c2 * 3}|{c2 * 3} {geo} {c2 * 3}|{c2 * 3} {hist} {c2 * 2}|{c2 * 3} {fis} {c2 * 34}')\n",
    "print(c2 * 89)\n",
    "print(f'{c2 * 58} MÉDIA GERAL: {media:.2f} {c2 * 12}')"
   ]
  }
 ],
 "metadata": {
  "kernelspec": {
   "display_name": ".venv",
   "language": "python",
   "name": "python3"
  },
  "language_info": {
   "codemirror_mode": {
    "name": "ipython",
    "version": 3
   },
   "file_extension": ".py",
   "mimetype": "text/x-python",
   "name": "python",
   "nbconvert_exporter": "python",
   "pygments_lexer": "ipython3",
   "version": "3.12.4"
  }
 },
 "nbformat": 4,
 "nbformat_minor": 2
}
