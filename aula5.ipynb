{
 "cells": [
  {
   "cell_type": "markdown",
   "metadata": {},
   "source": [
    "## Desafio 1"
   ]
  },
  {
   "cell_type": "code",
   "execution_count": 7,
   "metadata": {},
   "outputs": [
    {
     "name": "stdout",
     "output_type": "stream",
     "text": [
      "235427 é um número é ímpar!\n"
     ]
    }
   ],
   "source": [
    "numero = input('Digite o número: ')\n",
    "numero = int(numero)\n",
    "\n",
    "if numero % 2 == 0:\n",
    "    print(f'{numero} é um número par!')\n",
    "\n",
    "else:\n",
    "    print(f'{numero} é um número é ímpar!')"
   ]
  },
  {
   "cell_type": "markdown",
   "metadata": {},
   "source": [
    "## Desafio 2\n",
    "\n",
    " - Um elevador de carga possui capacidade para 200kg.\n",
    "   - Crie um programa que receba do usuário o peso da carga ou seu peso e verifica se a carga esta autorizada a usar o elevador ou nao."
   ]
  },
  {
   "cell_type": "code",
   "execution_count": 11,
   "metadata": {},
   "outputs": [
    {
     "name": "stdout",
     "output_type": "stream",
     "text": [
      "O peso de 1.0 é suportado pelo elevador.\n"
     ]
    }
   ],
   "source": [
    "# Recebe e trata os dados\n",
    "max = float(200)\n",
    "carga = input('Qual o valor da carga: ')\n",
    "carga = float(carga)\n",
    "\n",
    "# Verificação\n",
    "if carga <= max:\n",
    "    print(f'O peso de {carga} é suportado pelo elevador.')\n",
    "else:\n",
    "    print(f'O peso de {carga} não é suportado pelo elevador.')\n"
   ]
  },
  {
   "cell_type": "markdown",
   "metadata": {},
   "source": [
    "## Desafio 3\n",
    "\n",
    "- Crie um sistema para coletar os dados do aluno (nome, idade, cpf), em seguida solicite as notas dos 4 bimestres da disciplina de Python que o aluno teve para verificar a média.\n",
    "    - Média para aprovação >= 7\n",
    "    - Média para recuperação >= 5\n",
    "    - Média para reprovação < 5\n",
    "\n",
    "- Para retirar o boletim de notas, o aluno precisa ser maior de idade (18 anos) e caso não seja, somente os pais podem retirar o boletim.\n",
    "    - Imprima as informações do aluno\n",
    "    - Imprima as notas do aluno em cada bimestre\n",
    "    - Imprima a situação do aluno (aprovado, reprovado, recuperação)\n",
    "    - Imprima se o boletim sera retirado pelos pais ou pelo próprio aluno."
   ]
  },
  {
   "cell_type": "code",
   "execution_count": 20,
   "metadata": {},
   "outputs": [
    {
     "name": "stdout",
     "output_type": "stream",
     "text": [
      "OK, agora preciso dos valores das notas: \n",
      "===================================== BOLETIM 2024 ======================================\n",
      "ALUNO: sdasdasds CPF: sdfsdfsdfd\n",
      "-----------------------------------------------------------------------------------------\n",
      "1º Bimestre | 2º Bimestre | 3º Bimestre | 4º Bimestre\n",
      "--- 9.0 ----|---- 9.0 ----|---- 9.0 ----|--- 9.0 --\n",
      "-----------------------------------------------------------------------------------------\n",
      "---------------------------------------------- MÉDIA GERAL: Em recuperação com nota: 9.0\n"
     ]
    }
   ],
   "source": [
    "# Recebendo os dados dos alunos\n",
    "nome = input('Digite o nome do aluno: ')\n",
    "idade = input(f'Poderia agora me informar a idade do(a) {nome}: ')\n",
    "cpf = input(f'Agora preciso do cpf do(a) {nome}, ex: 000.000.000-00: ')\n",
    "\n",
    "print('OK, agora preciso dos valores das notas: ')\n",
    "\n",
    "b1 = input('Nota do 1º bimestre: ')\n",
    "b2 = input('Nota do 2º bimestre: ')\n",
    "b3 = input('Nota do 3º bimestre: ')\n",
    "b4 = input('Nota do 4º bimestre: ')\n",
    "\n",
    "\n",
    "# Tratando os dados:\n",
    "idade = int(idade)\n",
    "b1 = float(b1)\n",
    "b2 = float(b2)\n",
    "b3 = float(b3)\n",
    "b4 = float(b4)\n",
    "\n",
    "# Verificando a média\n",
    "media  = (b1 + b2 + b3 + b4) / 4\n",
    "if media >= 7:\n",
    "    media_final = \"Aprovado com nota: \" + str(media)\n",
    "if media >= 5:\n",
    "    media_final = \"Em recuperação com nota: \" + str(media)\n",
    "else:\n",
    "    media_final = '\\033[31m'+\"Reprovado com nota: \" + str(media) +'\\033[0;0m'\n",
    "\n",
    "# Formatação\n",
    "c1 = '='\n",
    "c2 = '-'\n",
    "\n",
    "if idade < 18:\n",
    "    print('ATENÇÂO! Somente pai do aluno poderá ter acesso ao boletim por ele ser menor de idade.')\n",
    "\n",
    "else:\n",
    "    # Imprimindo o boletim\n",
    "    print(f'{c1 *37} BOLETIM 2024 {c1 *38}')\n",
    "    print(f'ALUNO: {nome} CPF: {cpf}')\n",
    "    print(c2 * 89)\n",
    "    print('1º Bimestre | 2º Bimestre | 3º Bimestre | 4º Bimestre')\n",
    "    print(f'{c2 * 3} {b1} {c2 * 4}|{c2 * 4} {b2} {c2 * 4}|{c2 * 4} {b3} {c2 * 4}|{c2 * 3} {b4} {c2 * 2}')\n",
    "    print(c2 * 89)\n",
    "    print(f'{c2 * 46} MÉDIA GERAL: {str(media_final)}')"
   ]
  }
 ],
 "metadata": {
  "kernelspec": {
   "display_name": ".venv",
   "language": "python",
   "name": "python3"
  },
  "language_info": {
   "codemirror_mode": {
    "name": "ipython",
    "version": 3
   },
   "file_extension": ".py",
   "mimetype": "text/x-python",
   "name": "python",
   "nbconvert_exporter": "python",
   "pygments_lexer": "ipython3",
   "version": "3.12.4"
  }
 },
 "nbformat": 4,
 "nbformat_minor": 2
}
