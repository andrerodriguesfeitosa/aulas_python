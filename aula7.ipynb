{
 "cells": [
  {
   "cell_type": "markdown",
   "metadata": {},
   "source": [
    "# Listas (for)"
   ]
  },
  {
   "cell_type": "code",
   "execution_count": 4,
   "metadata": {},
   "outputs": [
    {
     "name": "stdout",
     "output_type": "stream",
     "text": [
      "1\n",
      "3\n",
      "5\n",
      "7\n",
      "9\n",
      "11\n",
      "13\n",
      "15\n",
      "17\n",
      "19\n"
     ]
    }
   ],
   "source": [
    "# for gerando numeros pares\n",
    "for i in range(0,21):\n",
    "    if i % 2 == 0:\n",
    "        print(i)\n",
    "        "
   ]
  },
  {
   "cell_type": "code",
   "execution_count": 37,
   "metadata": {},
   "outputs": [
    {
     "name": "stdout",
     "output_type": "stream",
     "text": [
      "                   \u001b[32m*\u001b[0;0m\n",
      "                  \u001b[32m*\u001b[0;0m\u001b[32m*\u001b[0;0m\u001b[32m*\u001b[0;0m\n",
      "                 \u001b[32m*\u001b[0;0m\u001b[32m*\u001b[0;0m\u001b[32m*\u001b[0;0m\u001b[31m@\u001b[0;0m\u001b[32m*\u001b[0;0m\n",
      "                \u001b[32m*\u001b[0;0m\u001b[32m*\u001b[0;0m\u001b[32m*\u001b[0;0m\u001b[32m*\u001b[0;0m\u001b[32m*\u001b[0;0m\u001b[32m*\u001b[0;0m\u001b[31m@\u001b[0;0m\n",
      "               \u001b[32m*\u001b[0;0m\u001b[32m*\u001b[0;0m\u001b[32m*\u001b[0;0m\u001b[32m*\u001b[0;0m\u001b[32m*\u001b[0;0m\u001b[32m*\u001b[0;0m\u001b[32m*\u001b[0;0m\u001b[31m@\u001b[0;0m\u001b[32m*\u001b[0;0m\n",
      "              \u001b[32m*\u001b[0;0m\u001b[32m*\u001b[0;0m\u001b[32m*\u001b[0;0m\u001b[32m*\u001b[0;0m\u001b[32m*\u001b[0;0m\u001b[32m*\u001b[0;0m\u001b[31m@\u001b[0;0m\u001b[32m*\u001b[0;0m\u001b[32m*\u001b[0;0m\u001b[32m*\u001b[0;0m\u001b[32m*\u001b[0;0m\n",
      "             \u001b[32m*\u001b[0;0m\u001b[32m*\u001b[0;0m\u001b[32m*\u001b[0;0m\u001b[31m@\u001b[0;0m\u001b[32m*\u001b[0;0m\u001b[32m*\u001b[0;0m\u001b[32m*\u001b[0;0m\u001b[32m*\u001b[0;0m\u001b[32m*\u001b[0;0m\u001b[32m*\u001b[0;0m\u001b[32m*\u001b[0;0m\u001b[31m@\u001b[0;0m\u001b[32m*\u001b[0;0m\n",
      "            \u001b[32m*\u001b[0;0m\u001b[32m*\u001b[0;0m\u001b[32m*\u001b[0;0m\u001b[32m*\u001b[0;0m\u001b[32m*\u001b[0;0m\u001b[32m*\u001b[0;0m\u001b[31m@\u001b[0;0m\u001b[32m*\u001b[0;0m\u001b[32m*\u001b[0;0m\u001b[32m*\u001b[0;0m\u001b[32m*\u001b[0;0m\u001b[32m*\u001b[0;0m\u001b[32m*\u001b[0;0m\u001b[32m*\u001b[0;0m\u001b[31m@\u001b[0;0m\n",
      "           \u001b[32m*\u001b[0;0m\u001b[32m*\u001b[0;0m\u001b[32m*\u001b[0;0m\u001b[32m*\u001b[0;0m\u001b[32m*\u001b[0;0m\u001b[32m*\u001b[0;0m\u001b[32m*\u001b[0;0m\u001b[31m@\u001b[0;0m\u001b[32m*\u001b[0;0m\u001b[32m*\u001b[0;0m\u001b[32m*\u001b[0;0m\u001b[32m*\u001b[0;0m\u001b[32m*\u001b[0;0m\u001b[32m*\u001b[0;0m\u001b[32m*\u001b[0;0m\u001b[31m@\u001b[0;0m\u001b[32m*\u001b[0;0m\n",
      "          \u001b[32m*\u001b[0;0m\u001b[32m*\u001b[0;0m\u001b[32m*\u001b[0;0m\u001b[32m*\u001b[0;0m\u001b[32m*\u001b[0;0m\u001b[32m*\u001b[0;0m\u001b[31m@\u001b[0;0m\u001b[32m*\u001b[0;0m\u001b[32m*\u001b[0;0m\u001b[32m*\u001b[0;0m\u001b[32m*\u001b[0;0m\u001b[32m*\u001b[0;0m\u001b[32m*\u001b[0;0m\u001b[32m*\u001b[0;0m\u001b[31m@\u001b[0;0m\u001b[32m*\u001b[0;0m\u001b[32m*\u001b[0;0m\u001b[32m*\u001b[0;0m\u001b[32m*\u001b[0;0m\n",
      "         \u001b[32m*\u001b[0;0m\u001b[32m*\u001b[0;0m\u001b[32m*\u001b[0;0m\u001b[31m@\u001b[0;0m\u001b[32m*\u001b[0;0m\u001b[32m*\u001b[0;0m\u001b[32m*\u001b[0;0m\u001b[32m*\u001b[0;0m\u001b[32m*\u001b[0;0m\u001b[32m*\u001b[0;0m\u001b[32m*\u001b[0;0m\u001b[31m@\u001b[0;0m\u001b[32m*\u001b[0;0m\u001b[32m*\u001b[0;0m\u001b[32m*\u001b[0;0m\u001b[32m*\u001b[0;0m\u001b[32m*\u001b[0;0m\u001b[32m*\u001b[0;0m\u001b[32m*\u001b[0;0m\u001b[31m@\u001b[0;0m\u001b[32m*\u001b[0;0m\n",
      "        \u001b[32m*\u001b[0;0m\u001b[32m*\u001b[0;0m\u001b[32m*\u001b[0;0m\u001b[32m*\u001b[0;0m\u001b[32m*\u001b[0;0m\u001b[32m*\u001b[0;0m\u001b[31m@\u001b[0;0m\u001b[32m*\u001b[0;0m\u001b[32m*\u001b[0;0m\u001b[32m*\u001b[0;0m\u001b[32m*\u001b[0;0m\u001b[32m*\u001b[0;0m\u001b[32m*\u001b[0;0m\u001b[32m*\u001b[0;0m\u001b[31m@\u001b[0;0m\u001b[32m*\u001b[0;0m\u001b[32m*\u001b[0;0m\u001b[32m*\u001b[0;0m\u001b[32m*\u001b[0;0m\u001b[32m*\u001b[0;0m\u001b[32m*\u001b[0;0m\u001b[32m*\u001b[0;0m\u001b[31m@\u001b[0;0m\n",
      "       \u001b[32m*\u001b[0;0m\u001b[32m*\u001b[0;0m\u001b[32m*\u001b[0;0m\u001b[32m*\u001b[0;0m\u001b[32m*\u001b[0;0m\u001b[32m*\u001b[0;0m\u001b[32m*\u001b[0;0m\u001b[31m@\u001b[0;0m\u001b[32m*\u001b[0;0m\u001b[32m*\u001b[0;0m\u001b[32m*\u001b[0;0m\u001b[32m*\u001b[0;0m\u001b[32m*\u001b[0;0m\u001b[32m*\u001b[0;0m\u001b[32m*\u001b[0;0m\u001b[31m@\u001b[0;0m\u001b[32m*\u001b[0;0m\u001b[32m*\u001b[0;0m\u001b[32m*\u001b[0;0m\u001b[32m*\u001b[0;0m\u001b[32m*\u001b[0;0m\u001b[32m*\u001b[0;0m\u001b[32m*\u001b[0;0m\u001b[31m@\u001b[0;0m\u001b[32m*\u001b[0;0m\n",
      "      \u001b[32m*\u001b[0;0m\u001b[32m*\u001b[0;0m\u001b[32m*\u001b[0;0m\u001b[32m*\u001b[0;0m\u001b[32m*\u001b[0;0m\u001b[32m*\u001b[0;0m\u001b[31m@\u001b[0;0m\u001b[32m*\u001b[0;0m\u001b[32m*\u001b[0;0m\u001b[32m*\u001b[0;0m\u001b[32m*\u001b[0;0m\u001b[32m*\u001b[0;0m\u001b[32m*\u001b[0;0m\u001b[32m*\u001b[0;0m\u001b[31m@\u001b[0;0m\u001b[32m*\u001b[0;0m\u001b[32m*\u001b[0;0m\u001b[32m*\u001b[0;0m\u001b[32m*\u001b[0;0m\u001b[32m*\u001b[0;0m\u001b[32m*\u001b[0;0m\u001b[32m*\u001b[0;0m\u001b[31m@\u001b[0;0m\u001b[32m*\u001b[0;0m\u001b[32m*\u001b[0;0m\u001b[32m*\u001b[0;0m\u001b[32m*\u001b[0;0m\n",
      "     \u001b[32m*\u001b[0;0m\u001b[32m*\u001b[0;0m\u001b[32m*\u001b[0;0m\u001b[31m@\u001b[0;0m\u001b[32m*\u001b[0;0m\u001b[32m*\u001b[0;0m\u001b[32m*\u001b[0;0m\u001b[32m*\u001b[0;0m\u001b[32m*\u001b[0;0m\u001b[32m*\u001b[0;0m\u001b[32m*\u001b[0;0m\u001b[31m@\u001b[0;0m\u001b[32m*\u001b[0;0m\u001b[32m*\u001b[0;0m\u001b[32m*\u001b[0;0m\u001b[32m*\u001b[0;0m\u001b[32m*\u001b[0;0m\u001b[32m*\u001b[0;0m\u001b[32m*\u001b[0;0m\u001b[31m@\u001b[0;0m\u001b[32m*\u001b[0;0m\u001b[32m*\u001b[0;0m\u001b[32m*\u001b[0;0m\u001b[32m*\u001b[0;0m\u001b[32m*\u001b[0;0m\u001b[32m*\u001b[0;0m\u001b[32m*\u001b[0;0m\u001b[31m@\u001b[0;0m\u001b[32m*\u001b[0;0m\n",
      "    \u001b[32m*\u001b[0;0m\u001b[32m*\u001b[0;0m\u001b[32m*\u001b[0;0m\u001b[32m*\u001b[0;0m\u001b[32m*\u001b[0;0m\u001b[32m*\u001b[0;0m\u001b[31m@\u001b[0;0m\u001b[32m*\u001b[0;0m\u001b[32m*\u001b[0;0m\u001b[32m*\u001b[0;0m\u001b[32m*\u001b[0;0m\u001b[32m*\u001b[0;0m\u001b[32m*\u001b[0;0m\u001b[32m*\u001b[0;0m\u001b[31m@\u001b[0;0m\u001b[32m*\u001b[0;0m\u001b[32m*\u001b[0;0m\u001b[32m*\u001b[0;0m\u001b[32m*\u001b[0;0m\u001b[32m*\u001b[0;0m\u001b[32m*\u001b[0;0m\u001b[32m*\u001b[0;0m\u001b[31m@\u001b[0;0m\u001b[32m*\u001b[0;0m\u001b[32m*\u001b[0;0m\u001b[32m*\u001b[0;0m\u001b[32m*\u001b[0;0m\u001b[32m*\u001b[0;0m\u001b[32m*\u001b[0;0m\u001b[32m*\u001b[0;0m\u001b[31m@\u001b[0;0m\n",
      "   \u001b[32m*\u001b[0;0m\u001b[32m*\u001b[0;0m\u001b[32m*\u001b[0;0m\u001b[32m*\u001b[0;0m\u001b[32m*\u001b[0;0m\u001b[32m*\u001b[0;0m\u001b[32m*\u001b[0;0m\u001b[31m@\u001b[0;0m\u001b[32m*\u001b[0;0m\u001b[32m*\u001b[0;0m\u001b[32m*\u001b[0;0m\u001b[32m*\u001b[0;0m\u001b[32m*\u001b[0;0m\u001b[32m*\u001b[0;0m\u001b[32m*\u001b[0;0m\u001b[31m@\u001b[0;0m\u001b[32m*\u001b[0;0m\u001b[32m*\u001b[0;0m\u001b[32m*\u001b[0;0m\u001b[32m*\u001b[0;0m\u001b[32m*\u001b[0;0m\u001b[32m*\u001b[0;0m\u001b[32m*\u001b[0;0m\u001b[31m@\u001b[0;0m\u001b[32m*\u001b[0;0m\u001b[32m*\u001b[0;0m\u001b[32m*\u001b[0;0m\u001b[32m*\u001b[0;0m\u001b[32m*\u001b[0;0m\u001b[32m*\u001b[0;0m\u001b[32m*\u001b[0;0m\u001b[31m@\u001b[0;0m\u001b[32m*\u001b[0;0m\n",
      "  \u001b[32m*\u001b[0;0m\u001b[32m*\u001b[0;0m\u001b[32m*\u001b[0;0m\u001b[32m*\u001b[0;0m\u001b[32m*\u001b[0;0m\u001b[32m*\u001b[0;0m\u001b[31m@\u001b[0;0m\u001b[32m*\u001b[0;0m\u001b[32m*\u001b[0;0m\u001b[32m*\u001b[0;0m\u001b[32m*\u001b[0;0m\u001b[32m*\u001b[0;0m\u001b[32m*\u001b[0;0m\u001b[32m*\u001b[0;0m\u001b[31m@\u001b[0;0m\u001b[32m*\u001b[0;0m\u001b[32m*\u001b[0;0m\u001b[32m*\u001b[0;0m\u001b[32m*\u001b[0;0m\u001b[32m*\u001b[0;0m\u001b[32m*\u001b[0;0m\u001b[32m*\u001b[0;0m\u001b[31m@\u001b[0;0m\u001b[32m*\u001b[0;0m\u001b[32m*\u001b[0;0m\u001b[32m*\u001b[0;0m\u001b[32m*\u001b[0;0m\u001b[32m*\u001b[0;0m\u001b[32m*\u001b[0;0m\u001b[32m*\u001b[0;0m\u001b[31m@\u001b[0;0m\u001b[32m*\u001b[0;0m\u001b[32m*\u001b[0;0m\u001b[32m*\u001b[0;0m\u001b[32m*\u001b[0;0m\n",
      " \u001b[32m*\u001b[0;0m\u001b[32m*\u001b[0;0m\u001b[32m*\u001b[0;0m\u001b[31m@\u001b[0;0m\u001b[32m*\u001b[0;0m\u001b[32m*\u001b[0;0m\u001b[32m*\u001b[0;0m\u001b[32m*\u001b[0;0m\u001b[32m*\u001b[0;0m\u001b[32m*\u001b[0;0m\u001b[32m*\u001b[0;0m\u001b[31m@\u001b[0;0m\u001b[32m*\u001b[0;0m\u001b[32m*\u001b[0;0m\u001b[32m*\u001b[0;0m\u001b[32m*\u001b[0;0m\u001b[32m*\u001b[0;0m\u001b[32m*\u001b[0;0m\u001b[32m*\u001b[0;0m\u001b[31m@\u001b[0;0m\u001b[32m*\u001b[0;0m\u001b[32m*\u001b[0;0m\u001b[32m*\u001b[0;0m\u001b[32m*\u001b[0;0m\u001b[32m*\u001b[0;0m\u001b[32m*\u001b[0;0m\u001b[32m*\u001b[0;0m\u001b[31m@\u001b[0;0m\u001b[32m*\u001b[0;0m\u001b[32m*\u001b[0;0m\u001b[32m*\u001b[0;0m\u001b[32m*\u001b[0;0m\u001b[32m*\u001b[0;0m\u001b[32m*\u001b[0;0m\u001b[32m*\u001b[0;0m\u001b[31m@\u001b[0;0m\u001b[32m*\u001b[0;0m\n",
      "\u001b[32m*\u001b[0;0m\u001b[32m*\u001b[0;0m\u001b[32m*\u001b[0;0m\u001b[32m*\u001b[0;0m\u001b[32m*\u001b[0;0m\u001b[32m*\u001b[0;0m\u001b[31m@\u001b[0;0m\u001b[32m*\u001b[0;0m\u001b[32m*\u001b[0;0m\u001b[32m*\u001b[0;0m\u001b[32m*\u001b[0;0m\u001b[32m*\u001b[0;0m\u001b[32m*\u001b[0;0m\u001b[32m*\u001b[0;0m\u001b[31m@\u001b[0;0m\u001b[32m*\u001b[0;0m\u001b[32m*\u001b[0;0m\u001b[32m*\u001b[0;0m\u001b[32m*\u001b[0;0m\u001b[32m*\u001b[0;0m\u001b[32m*\u001b[0;0m\u001b[32m*\u001b[0;0m\u001b[31m@\u001b[0;0m\u001b[32m*\u001b[0;0m\u001b[32m*\u001b[0;0m\u001b[32m*\u001b[0;0m\u001b[32m*\u001b[0;0m\u001b[32m*\u001b[0;0m\u001b[32m*\u001b[0;0m\u001b[32m*\u001b[0;0m\u001b[31m@\u001b[0;0m\u001b[32m*\u001b[0;0m\u001b[32m*\u001b[0;0m\u001b[32m*\u001b[0;0m\u001b[32m*\u001b[0;0m\u001b[32m*\u001b[0;0m\u001b[32m*\u001b[0;0m\u001b[32m*\u001b[0;0m\u001b[31m@\u001b[0;0m\n"
     ]
    }
   ],
   "source": [
    "#arvore de natal\n",
    "import random\n",
    "\n",
    "altura = 20\n",
    "espacamento = 0\n",
    "asterisco = 1\n",
    "rnd = 1\n",
    "\n",
    "for i in range(altura):\n",
    "    \n",
    "    espacamento = altura - i - 1\n",
    "\n",
    "    for j in range(espacamento):\n",
    "        print(' ', end='' )\n",
    "\n",
    "    for k in range(asterisco):\n",
    "        if rnd == 8:\n",
    "            simbolo = '\\033[31m'+'@'+'\\033[0;0m'\n",
    "            rnd = 1        \n",
    "        else:\n",
    "            simbolo = '\\033[32m'+'*'+'\\033[0;0m'\n",
    "            rnd += 1\n",
    "        print(simbolo, end='')\n",
    "\n",
    "    print()\n",
    "    asterisco += 2    "
   ]
  },
  {
   "cell_type": "markdown",
   "metadata": {},
   "source": [
    "# Desafio"
   ]
  },
  {
   "cell_type": "code",
   "execution_count": 25,
   "metadata": {},
   "outputs": [
    {
     "name": "stdout",
     "output_type": "stream",
     "text": [
      "2 X 1 = 2\n",
      "2 X 2 = 4\n",
      "2 X 3 = 6\n",
      "2 X 4 = 8\n",
      "2 X 5 = 10\n",
      "2 X 6 = 12\n",
      "2 X 7 = 14\n",
      "2 X 8 = 16\n",
      "2 X 9 = 18\n",
      "2 X 10 = 20\n"
     ]
    }
   ],
   "source": [
    "#tabuada\n",
    "\n",
    "x = input('Digite o número: ')\n",
    "x = int(x)\n",
    "\n",
    "for num in range(1, 11):\n",
    "    print(f'{x} X {num} = {x * num}')\n"
   ]
  },
  {
   "cell_type": "markdown",
   "metadata": {},
   "source": [
    "# Desafio"
   ]
  },
  {
   "cell_type": "code",
   "execution_count": 38,
   "metadata": {},
   "outputs": [
    {
     "name": "stdout",
     "output_type": "stream",
     "text": [
      "O ganhador é:  asdasdsd\n"
     ]
    }
   ],
   "source": [
    "# sorteio\n",
    "import random\n",
    "\n",
    "lista = []\n",
    "\n",
    "while True:\n",
    "    nome = input('Digite os nomes que serão sorteados: ')\n",
    "\n",
    "    if nome != '':\n",
    "        lista.append(nome) \n",
    "    else:\n",
    "        break\n",
    "\n",
    "premiado = random.choice(lista)\n",
    "print('O ganhador é: ',premiado)\n"
   ]
  }
 ],
 "metadata": {
  "kernelspec": {
   "display_name": ".venv",
   "language": "python",
   "name": "python3"
  },
  "language_info": {
   "codemirror_mode": {
    "name": "ipython",
    "version": 3
   },
   "file_extension": ".py",
   "mimetype": "text/x-python",
   "name": "python",
   "nbconvert_exporter": "python",
   "pygments_lexer": "ipython3",
   "version": "3.12.4"
  }
 },
 "nbformat": 4,
 "nbformat_minor": 2
}
