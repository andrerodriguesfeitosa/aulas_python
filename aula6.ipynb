{
 "cells": [
  {
   "cell_type": "markdown",
   "metadata": {},
   "source": [
    "# Desafio while"
   ]
  },
  {
   "cell_type": "code",
   "execution_count": 16,
   "metadata": {},
   "outputs": [
    {
     "name": "stdout",
     "output_type": "stream",
     "text": [
      "DSFSDFDS, seu IMC é: 0.12 - Anorexia\n",
      "DDASDASD, seu IMC é: 0.23 - Anorexia\n"
     ]
    },
    {
     "ename": "ValueError",
     "evalue": "could not convert string to float: 'sd'",
     "output_type": "error",
     "traceback": [
      "\u001b[1;31m---------------------------------------------------------------------------\u001b[0m",
      "\u001b[1;31mValueError\u001b[0m                                Traceback (most recent call last)",
      "Cell \u001b[1;32mIn[16], line 13\u001b[0m\n\u001b[0;32m     10\u001b[0m altura \u001b[38;5;241m=\u001b[39m \u001b[38;5;28minput\u001b[39m(\u001b[38;5;124m'\u001b[39m\u001b[38;5;124mDigite sua altura: \u001b[39m\u001b[38;5;124m'\u001b[39m)\u001b[38;5;241m.\u001b[39mreplace(\u001b[38;5;124m'\u001b[39m\u001b[38;5;124m,\u001b[39m\u001b[38;5;124m'\u001b[39m,\u001b[38;5;124m'\u001b[39m\u001b[38;5;124m.\u001b[39m\u001b[38;5;124m'\u001b[39m)\n\u001b[0;32m     12\u001b[0m \u001b[38;5;66;03m#tratando os dados\u001b[39;00m\n\u001b[1;32m---> 13\u001b[0m peso \u001b[38;5;241m=\u001b[39m \u001b[38;5;28;43mfloat\u001b[39;49m\u001b[43m(\u001b[49m\u001b[43mpeso\u001b[49m\u001b[43m)\u001b[49m\n\u001b[0;32m     14\u001b[0m altura \u001b[38;5;241m=\u001b[39m \u001b[38;5;28mfloat\u001b[39m(altura)\n\u001b[0;32m     16\u001b[0m \u001b[38;5;66;03m#calculando o IMC\u001b[39;00m\n",
      "\u001b[1;31mValueError\u001b[0m: could not convert string to float: 'sd'"
     ]
    }
   ],
   "source": [
    "#loop\n",
    "while True:\n",
    "    \n",
    "    nome = input('Digite o nome ou s para SAIR').upper()\n",
    "\n",
    "    if nome != 'S':\n",
    "\n",
    "        #recebendo os dados\n",
    "        peso = input('Digite seu peso: ').replace(',','.')\n",
    "        altura = input('Digite sua altura: ').replace(',','.')\n",
    "\n",
    "        #tratando os dados\n",
    "        peso = float(peso)\n",
    "        altura = float(altura)\n",
    "\n",
    "        #calculando o IMC\n",
    "        imc =  peso / (altura * altura)\n",
    "\n",
    "        #resultado\n",
    "        if imc < 17:\n",
    "            resultado = \"Anorexia\"\n",
    "        elif imc < 18.5:\n",
    "            resultado = \"Abaixo do peso\"\n",
    "        elif imc < 25:\n",
    "            resultado = \"Peso ideal\"\n",
    "        elif imc < 30:\n",
    "            resultado = \"Está acima do peso\"\n",
    "        elif imc < 35:\n",
    "            resultado = \"Grau de obesidade I\"\n",
    "        elif imc < 40:\n",
    "            resultado = \"Grau de obesidade II\"\n",
    "        else:\n",
    "            resultado = \"Obesidade mórbida\" \n",
    "\n",
    "        print(f'{nome}, seu IMC é: {imc:.2f} - {resultado}')\n",
    "        \n",
    "        continue\n",
    "        \n",
    "    else:\n",
    "        break "
   ]
  },
  {
   "cell_type": "markdown",
   "metadata": {},
   "source": [
    "# 2 Desafio while"
   ]
  },
  {
   "cell_type": "code",
   "execution_count": 17,
   "metadata": {},
   "outputs": [
    {
     "name": "stdout",
     "output_type": "stream",
     "text": [
      "Contagem regressiva: 20\n",
      "Contagem regressiva: 19\n",
      "Contagem regressiva: 18\n",
      "Contagem regressiva: 17\n",
      "Contagem regressiva: 16\n",
      "Contagem regressiva: 15\n",
      "Contagem regressiva: 14\n",
      "Contagem regressiva: 13\n",
      "Contagem regressiva: 12\n",
      "Contagem regressiva: 11\n",
      "Contagem regressiva: 10\n",
      "Contagem regressiva: 9\n",
      "Contagem regressiva: 8\n",
      "Contagem regressiva: 7\n",
      "Contagem regressiva: 6\n",
      "Contagem regressiva: 5\n",
      "Contagem regressiva: 4\n",
      "Contagem regressiva: 3\n",
      "Contagem regressiva: 2\n",
      "Contagem regressiva: 1\n",
      "Contagem regressiva: 0\n",
      "BOMMMMMMMMMMMMMMMMMMM!!!!\n"
     ]
    }
   ],
   "source": [
    "# Bomba\n",
    "import os\n",
    "import time\n",
    "\n",
    "#recebendo os dados\n",
    "cont = input('Digite o número para contagem regressiva: ')\n",
    "cont = int(cont)\n",
    "\n",
    "#loop\n",
    "while cont >= 0:\n",
    "    os.system('cls')\n",
    "    print(f'Contagem regressiva: {cont}')\n",
    "    time.sleep(1)\n",
    "    cont -= 1\n",
    "\n",
    "os.system('cls')\n",
    "print('BOMMMMMMMMMMMMMMMMMMM!!!!')"
   ]
  },
  {
   "cell_type": "markdown",
   "metadata": {},
   "source": [
    "# 3 Desafio Calculadora\n"
   ]
  },
  {
   "cell_type": "code",
   "execution_count": 24,
   "metadata": {},
   "outputs": [
    {
     "name": "stdout",
     "output_type": "stream",
     "text": [
      "Finalizando o sistema.\n"
     ]
    }
   ],
   "source": [
    "cont = 0\n",
    "while True:\n",
    "\n",
    "    opcao = input('Deseja realizar algum calulo? (s/n)').lower()\n",
    "    cont += 1\n",
    "\n",
    "    if opcao == 's':\n",
    "        #recebendo os dados\n",
    "        n1 = input('Digite o primeiro número: ')\n",
    "        n2 = input('Digite o segundo número: ')\n",
    "        op = input('Qual operação (+,-,/,*): ').replace('x','*')\n",
    "\n",
    "        #tratando os dados\n",
    "        n1 = int(n1)\n",
    "        n2 = int(n2)\n",
    "\n",
    "        if op == '+':\n",
    "            print('RESULTADO ',cont,': ', n1,' + ',n2, ' = ', n1 + n2)\n",
    "        elif op == '-':\n",
    "            print('RESULTADO ',cont,': ', n1,' - ',n2, ' = ',n1 - n2)\n",
    "        elif op == '/':\n",
    "            print('RESULTADO ',cont,': ', n1,' / ',n2, ' = ',n1 / n2)\n",
    "        elif op == '*':\n",
    "            print('RESULTADO ',cont,': ', n1,' x ',n2, ' = ',n1 * n2)\n",
    "        else:\n",
    "            cont -= 1\n",
    "            print('Operação não suportada.')\n",
    "\n",
    "    else:\n",
    "        print('Finalizando o sistema.')\n",
    "        break"
   ]
  },
  {
   "cell_type": "markdown",
   "metadata": {},
   "source": [
    "# 4 Desafio Cinema  "
   ]
  },
  {
   "cell_type": "code",
   "execution_count": 3,
   "metadata": {},
   "outputs": [
    {
     "name": "stdout",
     "output_type": "stream",
     "text": [
      "====================================== CINE COBRA 2024 ======================================\n",
      "Sala 1: O garoto do Python - O retorno da Anaconda. - Classificação: 18 anos.\n",
      "Sala 2: IA - A revolta das maquinas. - Classificação: 14 anos.\n",
      "Sala 3: O Jovem DEV 25 anos - De férias em Dubbai. - Classificação: 10 anos.\n",
      "Sala 4: O homem que atrapalhava - Conversando durante a aula toda. - Classificação: 6 anos.\n",
      "Sala 5: A proposta - O professor que contratou o aluno. - Classificação: 18 anos.\n",
      "==============================================================================================\n",
      "Verifique a classificação de idade do filme escolhido!\n",
      "Verifique a classificação de idade do filme escolhido!\n",
      "ANDRÉ  está liberado para ver o filme: O Jovem DEV 25 anos - De férias em Dubbai. - 10\n"
     ]
    }
   ],
   "source": [
    "# recebendo os dados do usuário\n",
    "nome = input('Digite o nome do cliente: ').upper()\n",
    "idade = input('Digite a idade do cliente: ')\n",
    "idade = int(idade)\n",
    "\n",
    "# definindo as salas e classificação\n",
    "sala1 = 'O garoto do Python - O retorno da Anaconda.'\n",
    "class1 = int(18)\n",
    "\n",
    "sala2 = 'IA - A revolta das maquinas.'\n",
    "class2 = int(14)\n",
    "\n",
    "sala3 = 'O Jovem DEV 25 anos - De férias em Dubbai.'\n",
    "class3 = int(10)\n",
    "\n",
    "sala4 = 'O homem que atrapalhava - Conversando durante a aula toda.'\n",
    "class4 = int(6)\n",
    "\n",
    "sala5 = 'A proposta - O professor que contratou o aluno.'\n",
    "class5 = int(18)\n",
    "\n",
    "# formatação\n",
    "c1 = '='\n",
    "\n",
    "print(f'{c1 *38} CINE COBRA 2024 {c1 *38}')\n",
    "print(f'Sala 1: {sala1} - Classificação: {class1} anos.')\n",
    "print(f'Sala 2: {sala2} - Classificação: {class2} anos.')\n",
    "print(f'Sala 3: {sala3} - Classificação: {class3} anos.')\n",
    "print(f'Sala 4: {sala4} - Classificação: {class4} anos.')\n",
    "print(f'Sala 5: {sala5} - Classificação: {class5} anos.')\n",
    "print(c1 *94)\n",
    "\n",
    "while True:\n",
    "\n",
    "    opcao = input('Digite o numero da Sala do filme escolhido: ')\n",
    "    opcao = int(opcao)\n",
    "\n",
    "    if opcao == 1 and idade >= class1:\n",
    "        print(f'{nome} está liberado para ver o filme: {sala1} - {class1}')\n",
    "        break\n",
    "\n",
    "    elif opcao == 2 and idade >= class2:\n",
    "        print(f'{nome} está liberado para ver o filme: {sala2} - {class2}')\n",
    "        break\n",
    "\n",
    "    elif opcao == 3 and idade >= class3:\n",
    "        print(f'{nome} está liberado para ver o filme: {sala3} - {class3}')\n",
    "        break\n",
    "\n",
    "    elif opcao == 4 and idade >= class4:\n",
    "        print(f'{nome} está liberado para ver o filme: {sala4} - {class4}')\n",
    "        break\n",
    "\n",
    "    elif opcao == 5 and idade >= class5:\n",
    "        print(f'{nome} está liberado para ver o filme: {sala5} - {class5}')\n",
    "        break\n",
    "\n",
    "    else:\n",
    "        print('Verifique a classificação de idade do filme escolhido!')  \n",
    "        "
   ]
  }
 ],
 "metadata": {
  "kernelspec": {
   "display_name": ".venv",
   "language": "python",
   "name": "python3"
  },
  "language_info": {
   "codemirror_mode": {
    "name": "ipython",
    "version": 3
   },
   "file_extension": ".py",
   "mimetype": "text/x-python",
   "name": "python",
   "nbconvert_exporter": "python",
   "pygments_lexer": "ipython3",
   "version": "3.12.4"
  }
 },
 "nbformat": 4,
 "nbformat_minor": 2
}
