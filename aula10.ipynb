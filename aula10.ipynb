{
 "cells": [
  {
   "cell_type": "markdown",
   "metadata": {},
   "source": [
    "# Atividades"
   ]
  },
  {
   "cell_type": "code",
   "execution_count": 2,
   "metadata": {},
   "outputs": [
    {
     "name": "stdout",
     "output_type": "stream",
     "text": [
      "Senha cadastrada com sucesso!\n"
     ]
    }
   ],
   "source": [
    "# verificação de senha \n",
    "\n",
    "lista_senhas = ['12345678', '2345678', '987654321']\n",
    "\n",
    "nova_senha = input('Digite a senha: ')\n",
    "\n",
    "if nova_senha in lista_senhas:\n",
    "    print('A senha ja existe')\n",
    "else:\n",
    "    lista_senhas.append(nova_senha)\n",
    "    print('Senha cadastrada com sucesso!')"
   ]
  },
  {
   "cell_type": "code",
   "execution_count": null,
   "metadata": {},
   "outputs": [],
   "source": [
    "# verificação de cpf \n",
    "\n",
    "lista_cpf = ['12345678', '2345678', '987654321']\n",
    "lista_usuarios = ['gomes', 'oliveira', 'lucas']\n",
    "\n",
    "while True:\n",
    "    print(30*'-', 'Bem vindo ao sistema Python cadastros' ,30*'-')\n",
    "    print('1. Cadastrar usuário')\n",
    "    print('2. Consultar usuário')\n",
    "    print('3. Acessar o sistema')\n",
    "    print('4. Remover um usuario')\n",
    "    print('5. Sair')\n",
    "\n",
    "    opcao = input('Digite a opção desejada')\n",
    "\n",
    "    #cadastrar\n",
    "    if opcao == '1':\n",
    "\n",
    "        novo_nome = input('Digite o nome: ')\n",
    "        novo_cpf = input('Digite o cpf: ')\n",
    "\n",
    "        if novo_cpf in lista_cpf:\n",
    "            print('O cpf ja existe!')\n",
    "        else:\n",
    "            lista_cpf.append(novo_cpf)\n",
    "            lista_usuarios.append(novo_nome)\n",
    "            print('Usuário cadastrado com sucesso!')\n",
    "\n",
    "    # consultar usuarios\n",
    "    elif opcao == '2':\n",
    "        for i in lista_usuarios:\n",
    "            print(f'Usuário {i}')\n",
    "\n",
    "    # acessar sistema\n",
    "    elif opcao == '3':\n",
    "        cpf_login = input('Digite o CPF: ')\n",
    "    \n",
    "        if cpf_login in lista_cpf:\n",
    "            print('Acesso realizado com sucesso!')\n",
    "        else:\n",
    "            print('Usuário não possui cadastro!')\n",
    "    \n",
    "    elif opcao == '4':\n",
    "        cpf_remove = input('Digite o CPF a ser removido: ')\n",
    "        \n",
    "        if cpf_remove in lista_cpf:\n",
    "            indice = lista_cpf.index(cpf_remove)\n",
    "            nome = lista_usuarios.pop(indice)\n",
    "            lista_cpf.pop(indice)\n",
    "\n",
    "            print(f'Usuário: {nome} com CPF {cpf_remove} foi removido com sucesso!')\n",
    "    \n",
    "    elif opcao == '5':\n",
    "        print('Saindo do sistema')\n",
    "        break\n",
    "\n",
    "    else:\n",
    "        print('Opção invélida!')\n"
   ]
  }
 ],
 "metadata": {
  "kernelspec": {
   "display_name": ".venv",
   "language": "python",
   "name": "python3"
  },
  "language_info": {
   "codemirror_mode": {
    "name": "ipython",
    "version": 3
   },
   "file_extension": ".py",
   "mimetype": "text/x-python",
   "name": "python",
   "nbconvert_exporter": "python",
   "pygments_lexer": "ipython3",
   "version": "3.12.4"
  }
 },
 "nbformat": 4,
 "nbformat_minor": 2
}
