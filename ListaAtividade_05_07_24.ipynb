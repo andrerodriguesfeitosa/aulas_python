{
 "cells": [
  {
   "cell_type": "markdown",
   "metadata": {},
   "source": [
    "## Operador ternário\n",
    "- Usar operador ternário quando as alternativas forem pequenas, e quando tiver apenas 2 ou no máximo 3 alternativas.\n",
    "- No exemplo a variável precisa ser inteira"
   ]
  },
  {
   "cell_type": "code",
   "execution_count": 10,
   "metadata": {},
   "outputs": [
    {
     "name": "stdout",
     "output_type": "stream",
     "text": [
      "karython é maior de idade.\n"
     ]
    }
   ],
   "source": [
    "nome = 'karython'\n",
    "idade = 18\n",
    "\n",
    "print(nome, 'é maior de idade.' if idade >= 18 else 'é menor de idade')"
   ]
  },
  {
   "cell_type": "markdown",
   "metadata": {},
   "source": [
    "## Replace\n",
    "- substituir"
   ]
  },
  {
   "cell_type": "code",
   "execution_count": 5,
   "metadata": {},
   "outputs": [
    {
     "name": "stdout",
     "output_type": "stream",
     "text": [
      "<class 'str'>\n",
      "<class 'float'>\n"
     ]
    }
   ],
   "source": [
    "peso = input(\"Digite seu peso: \").replace(',','.')\n",
    "print(type(peso))\n",
    "peso = float(peso)\n",
    "print(type(peso))\n"
   ]
  },
  {
   "cell_type": "markdown",
   "metadata": {},
   "source": [
    "## Desafio 01\n",
    "- Crie um programa para fazer a verificação de um cliente para saber se ele pode usar o brinquedo ou não.\n",
    "    - Para brincar ele precisa:\n",
    "        - ter mais que 12 anos\n",
    "        - ter altura minima de 1,20 mts"
   ]
  },
  {
   "cell_type": "code",
   "execution_count": 5,
   "metadata": {},
   "outputs": [
    {
     "name": "stdout",
     "output_type": "stream",
     "text": [
      "Luiz  poderá utilizar o brinquedo :)\n"
     ]
    }
   ],
   "source": [
    "# TODO:Resposta desafio 01\n",
    "\n",
    "#recebendo os dados\n",
    "nome = input('Nome do cliente')\n",
    "idade = input('Digite a idade: ')\n",
    "altura = input('Digite a altura: ').replace(',','.')\n",
    "\n",
    "#tratando os dados\n",
    "idade = int(idade)\n",
    "altura = float(altura)\n",
    "\n",
    "#resultado\n",
    "print(nome,' poderá utilizar o brinquedo :)' if idade >= 12 and altura >= 1.20 else ' não poderá utilizar o brinquedo :(')\n"
   ]
  },
  {
   "cell_type": "markdown",
   "metadata": {},
   "source": [
    "## Desafio 02\n",
    "- Crie um programa que verifica se o aluno poderar ir a praia.\n",
    "    - Para ir a praia ele precisa:\n",
    "        - Verifica se acordei de bom humor\n",
    "        - Verifica se o pai ja chegou em casa para leva-lo"
   ]
  },
  {
   "cell_type": "code",
   "execution_count": 9,
   "metadata": {},
   "outputs": [
    {
     "name": "stdout",
     "output_type": "stream",
     "text": [
      "André  Hoje me parece um excelente dia para ir a praia :)\n"
     ]
    }
   ],
   "source": [
    "# TODO: Resposta desafio 02\n",
    "\n",
    "#recebendo os dados\n",
    "nome = input('Olá, qual o seu nome? ')\n",
    "humor = input(f'{nome} Em uma escala de 1 a 5, qual o seu humor hoje? ')\n",
    "pai = input(f'{nome} Só mais uma pergunta.. Seu pai já chegou em casa? (sim ou não)')\n",
    "\n",
    "humor = int(humor)\n",
    "\n",
    "# tratamento dos dados e resultado\n",
    "print(nome,' Hoje me parece um excelente dia para ir a praia :)' if humor >= 3 and pai == 'sim' else ' Vamos deixar a praia para outro dia :(')\n"
   ]
  },
  {
   "cell_type": "markdown",
   "metadata": {},
   "source": [
    "## Desafio 03\n",
    "- Crie um programa que modifique o cpf digitado\n",
    "    - pegue um cpf qualquer com todos os digitos:\n",
    "        - remova os caracteres\n",
    "        - imprima o cpf sem modificação\n",
    "        - imprima o cpf com modificação"
   ]
  },
  {
   "cell_type": "code",
   "execution_count": 11,
   "metadata": {},
   "outputs": [
    {
     "name": "stdout",
     "output_type": "stream",
     "text": [
      "CPF DiGITADO: 020.288.631-02 CPF MODIFICADO: 02028863102\n"
     ]
    }
   ],
   "source": [
    "# TODO: Resposta desafio 03\n",
    "\n",
    "#recebendo o cpf\n",
    "cpf = input('Digite o cpf com todos os digitos (ex: 000.000.000-00): ')\n",
    "cpf_mod = cpf.replace('.','').replace('-','')\n",
    "\n",
    "print(f'CPF DiGITADO: {cpf} CPF MODIFICADO: {cpf_mod}')"
   ]
  },
  {
   "cell_type": "markdown",
   "metadata": {},
   "source": [
    "## Desafio 04\n",
    "- Crie uma calculadora de IMC\n",
    "    - Imprima as seguintes condições:?\n",
    "        - imc <17: está com anorexia.\n",
    "        - imc <18.5: está abaixo do peso\n",
    "        - imc <25: está no peso ideal.\n",
    "        - imc <30: está acima do peso.\n",
    "        - imc <35: está com grau de obesidade I.\n",
    "        - imc <40: está com grau de obesidade II.\n",
    "        - imc: está com grau de obesidade mórbida."
   ]
  },
  {
   "cell_type": "code",
   "execution_count": 18,
   "metadata": {},
   "outputs": [
    {
     "name": "stdout",
     "output_type": "stream",
     "text": [
      "Seu IMC é: 36.20 - Grau de obesidade II\n"
     ]
    }
   ],
   "source": [
    "# TODO: Resposta desafio 04\n",
    "\n",
    "#recebendo os dados\n",
    "peso = input('Digite seu peso: ').replace(',','.')\n",
    "altura = input('Digite sua altura: ').replace(',','.')\n",
    "\n",
    "#tratando os dados\n",
    "peso = float(peso)\n",
    "altura = float(altura)\n",
    "\n",
    "#calculando o IMC\n",
    "imc =  peso / (altura * altura)\n",
    "\n",
    "#resultado\n",
    "if imc < 17:\n",
    "    resultado = \"Anorexia\"\n",
    "elif imc < 18.5:\n",
    "    resultado = \"Abaixo do peso\"\n",
    "elif imc < 25:\n",
    "    resultado = \"Peso ideal\"\n",
    "elif imc < 30:\n",
    "    resultado = \"Está acima do peso\"\n",
    "elif imc < 35:\n",
    "    resultado = \"Grau de obesidade I\"\n",
    "elif imc < 40:\n",
    "    resultado = \"Grau de obesidade II\"\n",
    "else:\n",
    "    resultado = \"Obesidade mórbida\" \n",
    "\n",
    "print(f'Seu IMC é: {imc:.2f} - {resultado}')"
   ]
  },
  {
   "cell_type": "markdown",
   "metadata": {},
   "source": [
    "## Desafio 05\n",
    "- Crie uma calculadora basica.\n",
    "    - Solicite 2 números do usuário e pergunte qual operação matemática ele deseja fazer.\n",
    "        -   +; -; /; *\n",
    "        - imprima o resultado correto para cada operação"
   ]
  },
  {
   "cell_type": "code",
   "execution_count": 24,
   "metadata": {},
   "outputs": [
    {
     "name": "stdout",
     "output_type": "stream",
     "text": [
      "RESULTADO:  10  -  56  =  -46\n"
     ]
    }
   ],
   "source": [
    "# TODO: Resposta desafio 05\n",
    "\n",
    "#recebendo os dados\n",
    "n1 = input('Digite o primeiro número: ')\n",
    "n2 = input('Digite o segundo número: ')\n",
    "op = input('Qual operação (+,-,/,*): ').replace('x','*')\n",
    "\n",
    "#tratando os dados\n",
    "n1 = int(n1)\n",
    "n2 = int(n2)\n",
    "\n",
    "if op == '+':\n",
    "    print('RESULTADO: ', n1,' + ',n2, ' = ', n1 + n2)\n",
    "elif op == '-':\n",
    "    print('RESULTADO: ', n1,' - ',n2, ' = ',n1 - n2)\n",
    "elif op == '/':\n",
    "    print('RESULTADO: ', n1,' / ',n2, ' = ',n1 / n2)\n",
    "elif op == '*':\n",
    "    print('RESULTADO: ', n1,' x ',n2, ' = ',n1 * n2)\n",
    "else:\n",
    "    print('Operação não suportada.')"
   ]
  }
 ],
 "metadata": {
  "kernelspec": {
   "display_name": "Python 3",
   "language": "python",
   "name": "python3"
  },
  "language_info": {
   "codemirror_mode": {
    "name": "ipython",
    "version": 3
   },
   "file_extension": ".py",
   "mimetype": "text/x-python",
   "name": "python",
   "nbconvert_exporter": "python",
   "pygments_lexer": "ipython3",
   "version": "3.12.4"
  }
 },
 "nbformat": 4,
 "nbformat_minor": 2
}
